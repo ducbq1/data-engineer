{
 "cells": [
  {
   "cell_type": "code",
   "execution_count": null,
   "metadata": {},
   "outputs": [],
   "source": [
    "website = \"http://google.com\"\n",
    "slice = slice(0, 3)\n",
    "print(website[slice])"
   ]
  },
  {
   "cell_type": "code",
   "execution_count": null,
   "metadata": {},
   "outputs": [],
   "source": [
    "food = [\"pizza\", \"hamburger\", \"hotdog\", \"spaghetti\"]\n",
    "print(food)\n",
    "print(food[1])\n",
    "food[0] = \"sushi\"\n",
    "print(food[0])\n",
    "\n",
    "food.append(\"ice cream\")\n",
    "food.remove(\"hotdog\")\n",
    "food.pop()\n",
    "food.insert(0, \"cake\")\n",
    "food.sort()\n",
    "\n",
    "for x in food:\n",
    "  print(x)"
   ]
  },
  {
   "cell_type": "code",
   "execution_count": null,
   "metadata": {},
   "outputs": [],
   "source": [
    "# 2D lists = a list of lists\n",
    "\n",
    "drinks = [\"coffee\", \"soda\", \"tea\"]\n",
    "dinner = [\"pizza\", \"hamburger\", \"hotdog\"]\n",
    "dessert = [\"cake\", \"ice cream\"]\n",
    "\n",
    "food = [drinks, dinner, dessert]\n",
    "print(food)"
   ]
  },
  {
   "cell_type": "code",
   "execution_count": null,
   "metadata": {},
   "outputs": [],
   "source": [
    "# tuple = colletion which is ordered and unchangeable\n",
    "# used to group together related data\n",
    "\n",
    "student = (\"Bro\", 21, \"male\")\n",
    "print(student.count(\"Bro\"))\n",
    "print(student.index(\"male\"))\n",
    "\n",
    "for x in student:\n",
    "  print(x)\n",
    "\n",
    "if \"Bro\" in student:\n",
    "  print(\"Bro is here!\")\n"
   ]
  },
  {
   "cell_type": "code",
   "execution_count": null,
   "metadata": {},
   "outputs": [],
   "source": [
    "# set = collection which is unordered, unindexed. No duplicate values\n",
    "\n",
    "utensils = {\"fork\", \"spoon\", \"knife\"}\n",
    "dishes = {\"bowl\", \"plate\", \"cup\", \"knife\"}\n",
    "\n",
    "utensils.add(\"napkin\")\n",
    "utensils.remove(\"fork\")\n",
    "# utensils.clear()\n",
    "# dishes.update(utensils)\n",
    "\n",
    "dinner_table = utensils.union(dishes)\n",
    "\n",
    "'''\n",
    "for x in dinner_table:\n",
    "  print(x)\n",
    "\n",
    "for x in dishes:\n",
    "  print(x)\n",
    "'''\n",
    "\n",
    "print(utensils.difference(dishes))\n",
    "print(utensils.intersection(dishes))"
   ]
  },
  {
   "cell_type": "code",
   "execution_count": null,
   "metadata": {},
   "outputs": [],
   "source": [
    "# dictionary = A chageable, unordered collection of unique\n",
    "# key:value pairs\n",
    "# Fast because they use hashing, allow us to access a value quickly\n",
    "\n",
    "capitals = {\n",
    "  'USA': 'Washington DC',\n",
    "  'India': 'New Dehli',\n",
    "  'China': 'Beijing',\n",
    "  'Russia': 'Moscow'\n",
    "}\n",
    "\n",
    "# print(capitals['Germany'])\n",
    "print(capitals.get('Germany'))\n",
    "print(capitals.keys())\n",
    "print(capitals.values())\n",
    "print(capitals.items())\n",
    "\n",
    "for key, value in capitals.items():\n",
    "  print(key + ' ' + value)\n",
    "\n",
    "capitals.update({'Germany': 'Berlin'})\n",
    "capitals.update({'USA': 'Las Vegas'})\n",
    "capitals.pop('China')\n",
    "\n",
    "print(capitals)"
   ]
  },
  {
   "cell_type": "code",
   "execution_count": null,
   "metadata": {},
   "outputs": [],
   "source": [
    "# function = a block of code which is executed only when it is called\n",
    "\n",
    "def repeat():\n",
    "  print(\"Hello\")\n",
    "\n",
    "repeat()\n",
    "\n",
    "def hello(name):\n",
    "  print(\"Hello \" + name)\n",
    "  print(\"Have a nice day!\")\n",
    "\n",
    "my_name = 'ducbq1'\n",
    "\n",
    "hello(my_name)\n",
    "\n",
    "def multiply(number1, number2):\n",
    "  return number1 * number2\n",
    "\n",
    "x = multiply(6, 8)\n",
    "print(x)\n",
    "\n",
    "# return statement = Functions send Python values/objects back to the caller.\n",
    "# These values/objects are known as the function's return value\n",
    "\n",
    "# keywork arguments = arguments preceded by an identifier when we pass\n",
    "# them to a function.\n",
    "# The order of the arguments doesn't matter, unlike positional arguments\n",
    "# Python knows the name of the arguments that our function receives\n",
    "\n",
    "def hello(first, middle, last):\n",
    "  print(\"Hello \" + first + \" \" + middle + \" \" + last)\n",
    "\n",
    "hello(\"Bro\", \"Dude\", \"Code\")\n",
    "hello(last = \"Code\", middle = \"Dude\", first = \"Bro\")"
   ]
  },
  {
   "cell_type": "code",
   "execution_count": 47,
   "metadata": {},
   "outputs": [
    {
     "name": "stdout",
     "output_type": "stream",
     "text": [
      "3434\n"
     ]
    }
   ],
   "source": [
    "print(round(abs(float(input(\"Enter a whole positive number: \")))))"
   ]
  },
  {
   "cell_type": "code",
   "execution_count": 48,
   "metadata": {},
   "outputs": [
    {
     "name": "stdout",
     "output_type": "stream",
     "text": [
      "35\n"
     ]
    }
   ],
   "source": [
    "# *args = parameter that will pack all arguments into a tuple\n",
    "# useful so that a function can accept a varying amount of arguments\n",
    "\n",
    "def add(*stuff):\n",
    "  sum = 0\n",
    "  stuff = list(stuff)\n",
    "  stuff[0] = 0\n",
    "  for i in stuff:\n",
    "    sum += i\n",
    "  return sum\n",
    "\n",
    "print(add(1, 2, 3, 4, 5, 6, 7, 8))"
   ]
  }
 ],
 "metadata": {
  "kernelspec": {
   "display_name": "Python 3",
   "language": "python",
   "name": "python3"
  },
  "language_info": {
   "codemirror_mode": {
    "name": "ipython",
    "version": 3
   },
   "file_extension": ".py",
   "mimetype": "text/x-python",
   "name": "python",
   "nbconvert_exporter": "python",
   "pygments_lexer": "ipython3",
   "version": "3.10.9"
  },
  "orig_nbformat": 4,
  "vscode": {
   "interpreter": {
    "hash": "8bf0d51478355d2251941b3b98616086516a0eddd7c72ee47a3371765770709a"
   }
  }
 },
 "nbformat": 4,
 "nbformat_minor": 2
}
