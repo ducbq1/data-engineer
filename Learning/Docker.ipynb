{
 "cells": [
  {
   "attachments": {},
   "cell_type": "markdown",
   "metadata": {},
   "source": [
    "docker ps\n",
    "docker run postgres:9.6\n",
    "docker run -d redis (Detached mode)\n",
    "docker ps -a (Lists running and stopped container)\n",
    "docker run -p 6000:6379 redis:4.0\n",
    "docker run -d -p 6001:6379 --name redis-lastest redis\n",
    "docker exec -it cae903a74202 /bin/bash\n",
    "docker exec -it cae003a74202 sh\n",
    "docker pull mongo\n",
    "docker images\n",
    "docker network ls\n",
    "docker network create mongo-network\n",
    "docker run -p 27017:27017 -d -e MONGO_INITDB_ROOT_USERNAME=admin \n",
    "           -e MONGO_INITDB_ROOT_PASSWORD=password mongo"
   ]
  },
  {
   "attachments": {},
   "cell_type": "markdown",
   "metadata": {},
   "source": [
    "<!-- mongo-docker-compose.yaml -->S\n"
   ]
  }
 ],
 "metadata": {
  "language_info": {
   "name": "python"
  },
  "orig_nbformat": 4
 },
 "nbformat": 4,
 "nbformat_minor": 2
}
