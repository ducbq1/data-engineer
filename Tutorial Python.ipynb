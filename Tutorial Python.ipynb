{
 "cells": [
  {
   "cell_type": "code",
   "execution_count": null,
   "metadata": {},
   "outputs": [],
   "source": [
    "print(\"I love pizza\")\n",
    "print(\"It's really good!\")"
   ]
  },
  {
   "cell_type": "code",
   "execution_count": null,
   "metadata": {},
   "outputs": [],
   "source": [
    "name = \"Bro\"\n",
    "print(name)\n",
    "print(type(name))\n",
    "\n",
    "first_name = \"Bro\"\n",
    "last_name = \"Code\"\n",
    "full_name = first_name + \" \" + last_name\n",
    "print(full_name)"
   ]
  },
  {
   "cell_type": "code",
   "execution_count": null,
   "metadata": {},
   "outputs": [],
   "source": [
    "age = 21\n",
    "age += 1\n",
    "print(age)\n",
    "print(type(age))\n",
    "print(\"Your age is: \" + str(age))"
   ]
  },
  {
   "cell_type": "code",
   "execution_count": null,
   "metadata": {},
   "outputs": [],
   "source": [
    "height = 250.5\n",
    "print(height)\n",
    "print(type(height))"
   ]
  },
  {
   "cell_type": "code",
   "execution_count": null,
   "metadata": {},
   "outputs": [],
   "source": [
    "human = True\n",
    "print(human)\n",
    "print(type(human))\n",
    "print(\"Are you a human: \" + str(human))"
   ]
  },
  {
   "cell_type": "code",
   "execution_count": null,
   "metadata": {},
   "outputs": [],
   "source": [
    "name, age, attractive = \"Bro\", 21, True\n",
    "print(name, age, attractive)"
   ]
  },
  {
   "cell_type": "code",
   "execution_count": null,
   "metadata": {},
   "outputs": [],
   "source": [
    "name = \"Bro Code\"\n",
    "print(len(name))\n",
    "print(name.find(\"C\"))\n",
    "print(name.upper())\n",
    "print(name.lower())\n",
    "print(name.isdigit())\n",
    "print(name.isalpha())\n",
    "print(name.count(\"o\"))\n",
    "print(name.replace(\"o\", \"a\"))\n",
    "print(name * 3)"
   ]
  },
  {
   "cell_type": "code",
   "execution_count": null,
   "metadata": {},
   "outputs": [],
   "source": [
    "x = 1.7\n",
    "print(int(x))"
   ]
  },
  {
   "cell_type": "code",
   "execution_count": null,
   "metadata": {},
   "outputs": [],
   "source": [
    "x = input(\"What is your name?: \")\n",
    "print(x * 3)\n",
    "age = int(input(\"How old are you?: \"))"
   ]
  },
  {
   "cell_type": "code",
   "execution_count": null,
   "metadata": {},
   "outputs": [],
   "source": [
    "import math\n",
    "\n",
    "pi = 3.14\n",
    "\n",
    "x = 1\n",
    "y = 2\n",
    "z = 3\n",
    "\n",
    "print(round(pi))\n",
    "\n",
    "print(math.ceil(pi))\n",
    "print(abs(pi))\n",
    "print(pow(pi, 2))\n",
    "print(math.sqrt(420))\n",
    "print(max(x, y, z))\n",
    "print(min(x, y, z))"
   ]
  },
  {
   "cell_type": "code",
   "execution_count": null,
   "metadata": {},
   "outputs": [],
   "source": [
    "# [start:stop:step]\n",
    "\n",
    "name = \"Bro Code\"\n",
    "first_name = name[:3]\n",
    "last_name = name[4:]\n",
    "print(first_name)\n",
    "print(last_name)\n",
    "\n",
    "funky_name = name[0:8:1]\n",
    "fun_name = name[0:8:2]\n",
    "print(funky_name, fun_name)\n",
    "\n",
    "reversed_name = name[::-1]\n",
    "print(reversed_name)\n",
    "\n",
    "website = \"https://google.com\"\n",
    "# slice = slice(7, -4)\n"
   ]
  },
  {
   "cell_type": "code",
   "execution_count": null,
   "metadata": {},
   "outputs": [],
   "source": [
    "age = int(input(\"How old are you?: \"))\n",
    "\n",
    "if age == 100:\n",
    "  print(\"You are a century old!\")\n",
    "elif age >= 18:\n",
    "  print(\"You are an adult!\")\n",
    "elif age < 0:\n",
    "  print(\"You haven't been born yet!\")\n",
    "else:\n",
    "  print(\"You are a child!\")\n"
   ]
  },
  {
   "cell_type": "code",
   "execution_count": null,
   "metadata": {},
   "outputs": [],
   "source": [
    "temp = int(input(\"What is the temperature outside?: \"))\n",
    "\n",
    "if not (temp >= 0 and temp <= 30):\n",
    "  print(\"The temperature is good today!\")\n",
    "  print(\"Go outside!\")\n",
    "elif temp < 0 or temp > 30:\n",
    "  print(\"The temperature is bad today!\")\n",
    "  print(\"Stay inside!\")\n"
   ]
  },
  {
   "cell_type": "code",
   "execution_count": null,
   "metadata": {},
   "outputs": [],
   "source": [
    "while 1 == 1:\n",
    "  print(\"Help! I'm  in a loop!\")"
   ]
  },
  {
   "cell_type": "code",
   "execution_count": null,
   "metadata": {},
   "outputs": [],
   "source": [
    "name = \"\"\n",
    "while len(name) == 0:\n",
    "  name = input(\"Enter your name: \")\n",
    "\n",
    "print(\"Hello \" + name)"
   ]
  },
  {
   "cell_type": "code",
   "execution_count": null,
   "metadata": {},
   "outputs": [],
   "source": [
    "name = None\n",
    "\n",
    "while not name:\n",
    "  name = input(\"Enter your name: \")\n",
    "\n",
    "print(\"Hello \" + name)"
   ]
  },
  {
   "cell_type": "code",
   "execution_count": null,
   "metadata": {},
   "outputs": [],
   "source": [
    "for i in range(10):\n",
    "  print(i)\n",
    "\n",
    "for i in range(50, 100):\n",
    "  print(i)"
   ]
  },
  {
   "cell_type": "code",
   "execution_count": null,
   "metadata": {},
   "outputs": [],
   "source": [
    "for i in \"Bro Code\":\n",
    "  print(i)"
   ]
  },
  {
   "cell_type": "code",
   "execution_count": null,
   "metadata": {},
   "outputs": [],
   "source": [
    "import time\n",
    "\n",
    "for seconds in range(10, 0, -1):\n",
    "  print(seconds)\n",
    "  time.sleep(1)\n",
    "print(\"Happy New Year!\")"
   ]
  },
  {
   "cell_type": "code",
   "execution_count": 76,
   "metadata": {},
   "outputs": [
    {
     "name": "stdout",
     "output_type": "stream",
     "text": [
      "xxxx\n",
      "xxxx\n",
      "xxxx\n"
     ]
    }
   ],
   "source": [
    "rows = int(input(\"How many rows?: \"))\n",
    "columns = int(input(\"How many columns?: \"))\n",
    "symbol = input(\"Enter a symbol to use: \")\n",
    "\n",
    "for i in range(rows):\n",
    "  for j in range(columns):\n",
    "    print(symbol, end = \"\")\n",
    "  print()\n",
    "\n",
    "# Loop: break, continue, pass "
   ]
  },
  {
   "cell_type": "code",
   "execution_count": 78,
   "metadata": {},
   "outputs": [
    {
     "name": "stdout",
     "output_type": "stream",
     "text": [
      "['pizza', 'hamburger', 'hotdog', 'spaghetti']\n",
      "hotdog\n"
     ]
    }
   ],
   "source": [
    "food = [\"pizza\", \"hamburger\", \"hotdog\", \"spaghetti\"]\n",
    "\n",
    "print(food)\n",
    "print(food[2])\n"
   ]
  }
 ],
 "metadata": {
  "kernelspec": {
   "display_name": "Python 3",
   "language": "python",
   "name": "python3"
  },
  "language_info": {
   "codemirror_mode": {
    "name": "ipython",
    "version": 3
   },
   "file_extension": ".py",
   "mimetype": "text/x-python",
   "name": "python",
   "nbconvert_exporter": "python",
   "pygments_lexer": "ipython3",
   "version": "3.10.9"
  },
  "orig_nbformat": 4,
  "vscode": {
   "interpreter": {
    "hash": "6fb4bc273d8a3cfc4af08021db66ef5207d968926759c3b9e2cf29f2f02dbbe9"
   }
  }
 },
 "nbformat": 4,
 "nbformat_minor": 2
}
